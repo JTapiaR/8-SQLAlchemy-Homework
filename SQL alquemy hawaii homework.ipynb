{
 "cells": [
  {
   "cell_type": "markdown",
   "metadata": {},
   "source": [
    "# Step 1 - Climate Analysis and Exploration"
   ]
  },
  {
   "cell_type": "markdown",
   "metadata": {},
   "source": [
    "# Import Dependencies"
   ]
  },
  {
   "cell_type": "code",
   "execution_count": 1,
   "metadata": {},
   "outputs": [],
   "source": [
    "# Import Sqlalchemy\n",
    "import sqlalchemy\n",
    "from sqlalchemy import Column, Integer, String, Float\n",
    "# Import automap base\n",
    "from sqlalchemy.ext.automap import automap_base\n",
    "# Import Session\n",
    "from sqlalchemy.orm import Session\n",
    "# Imports the method used for connecting and inspecting DB\n",
    "from sqlalchemy import create_engine,inspect\n",
    "from sqlalchemy.ext.declarative import declarative_base\n",
    "# Import func from sqlalchemy to count\n",
    "from sqlalchemy import func\n",
    "# Import desc from sqlalchemy to order the records in descending order\n",
    "from sqlalchemy import desc\n",
    "\n",
    "# Import other lybraries \n",
    "import pandas as pd\n",
    "import numpy as np\n",
    "import datetime as dt\n",
    "\n",
    "# Import matplotlib,pyplot and the seaborn style in matplotlib\n",
    "from matplotlib import style\n",
    "style.use('fivethirtyeight')\n",
    "import matplotlib.pyplot as plt"
   ]
  },
  {
   "cell_type": "code",
   "execution_count": 2,
   "metadata": {},
   "outputs": [],
   "source": [
    "Base = declarative_base()"
   ]
  },
  {
   "cell_type": "code",
   "execution_count": 3,
   "metadata": {},
   "outputs": [],
   "source": [
    "# Connect to your sqlite database using sqlalchemy create_engine in the case of Windows you need to add\\\\ to map the adress of the file\n",
    "engine = create_engine(\"sqlite:///C:\\\\Users\\\\JESICA\\\\hawaii.sqlite\")"
   ]
  },
  {
   "cell_type": "code",
   "execution_count": 4,
   "metadata": {},
   "outputs": [],
   "source": [
    "# reflect an existing database into a new model \n",
    "Base = automap_base()\n",
    "# # reflect the tables\n",
    "Base.prepare(engine, reflect=True)"
   ]
  },
  {
   "cell_type": "code",
   "execution_count": 5,
   "metadata": {},
   "outputs": [
    {
     "data": {
      "text/plain": [
       "['measurement', 'station']"
      ]
     },
     "execution_count": 5,
     "metadata": {},
     "output_type": "execute_result"
    }
   ],
   "source": [
    "#Retrieving tables-classes name\n",
    "Base.classes.keys()"
   ]
  },
  {
   "cell_type": "code",
   "execution_count": 6,
   "metadata": {},
   "outputs": [],
   "source": [
    "Measurement = Base.classes.measurement\n",
    "Station = Base.classes.station"
   ]
  },
  {
   "cell_type": "code",
   "execution_count": 7,
   "metadata": {},
   "outputs": [],
   "source": [
    "Session = Session(engine)"
   ]
  },
  {
   "cell_type": "code",
   "execution_count": 8,
   "metadata": {},
   "outputs": [],
   "source": [
    "Inspect = inspect(engine)"
   ]
  },
  {
   "cell_type": "code",
   "execution_count": 9,
   "metadata": {},
   "outputs": [
    {
     "name": "stdout",
     "output_type": "stream",
     "text": [
      "id INTEGER\n",
      "station TEXT\n",
      "date TEXT\n",
      "prcp FLOAT\n",
      "tobs FLOAT\n"
     ]
    }
   ],
   "source": [
    "#Retrieving name of columns table measurement\n",
    "columns_measurement = Inspect.get_columns('measurement')\n",
    "for cols in columns_measurement:\n",
    "    print(cols[\"name\"], cols[\"type\"])"
   ]
  },
  {
   "cell_type": "code",
   "execution_count": 11,
   "metadata": {},
   "outputs": [
    {
     "name": "stdout",
     "output_type": "stream",
     "text": [
      "id INTEGER\n",
      "station TEXT\n",
      "name TEXT\n",
      "latitude FLOAT\n",
      "longitude FLOAT\n",
      "elevation FLOAT\n"
     ]
    }
   ],
   "source": [
    "#Retrieving name of columns table station\n",
    "columns_station = Inspect.get_columns('station')\n",
    "for cols in columns_station:\n",
    "    print(cols[\"name\"], cols[\"type\"])"
   ]
  },
  {
   "cell_type": "code",
   "execution_count": 12,
   "metadata": {},
   "outputs": [
    {
     "data": {
      "text/plain": [
       "[(1, 'USC00519397', '2010-01-01', 0.08, 65.0),\n",
       " (2, 'USC00519397', '2010-01-02', 0.0, 63.0),\n",
       " (3, 'USC00519397', '2010-01-03', 0.0, 74.0),\n",
       " (4, 'USC00519397', '2010-01-04', 0.0, 76.0),\n",
       " (5, 'USC00519397', '2010-01-06', 0.0, 73.0)]"
      ]
     },
     "execution_count": 12,
     "metadata": {},
     "output_type": "execute_result"
    }
   ],
   "source": [
    "#Retrieving information of Measurement table\n",
    "engine.execute('SELECT * FROM measurement LIMIT 5').fetchall()"
   ]
  },
  {
   "cell_type": "code",
   "execution_count": 13,
   "metadata": {},
   "outputs": [
    {
     "data": {
      "text/plain": [
       "[(1, 'USC00519397', 'WAIKIKI 717.2, HI US', 21.2716, -157.8168, 3.0),\n",
       " (2, 'USC00513117', 'KANEOHE 838.1, HI US', 21.4234, -157.8015, 14.6),\n",
       " (3, 'USC00514830', 'KUALOA RANCH HEADQUARTERS 886.9, HI US', 21.5213, -157.8374, 7.0),\n",
       " (4, 'USC00517948', 'PEARL CITY, HI US', 21.3934, -157.9751, 11.9),\n",
       " (5, 'USC00518838', 'UPPER WAHIAWA 874.3, HI US', 21.4992, -158.0111, 306.6)]"
      ]
     },
     "execution_count": 13,
     "metadata": {},
     "output_type": "execute_result"
    }
   ],
   "source": [
    "#Retrieving information of Station table\n",
    "engine.execute('SELECT * FROM station LIMIT 5').fetchall()"
   ]
  },
  {
   "cell_type": "code",
   "execution_count": 14,
   "metadata": {},
   "outputs": [
    {
     "name": "stdout",
     "output_type": "stream",
     "text": [
      "('2017-08-23',)\n"
     ]
    }
   ],
   "source": [
    "# Detecting the last date available in the DB\n",
    "last_date= Session.query(Measurement.date).order_by(Measurement.date.desc()).first()\n",
    "print(last_date)"
   ]
  },
  {
   "cell_type": "code",
   "execution_count": 17,
   "metadata": {},
   "outputs": [
    {
     "name": "stdout",
     "output_type": "stream",
     "text": [
      "2016-08-23\n"
     ]
    }
   ],
   "source": [
    "# Calculating the last 12 months of data, last date - 365\n",
    "one_year_ago = dt.date(2017, 8, 23) - dt.timedelta(days=365)\n",
    "print(last_year)"
   ]
  },
  {
   "cell_type": "code",
   "execution_count": 43,
   "metadata": {},
   "outputs": [
    {
     "name": "stdout",
     "output_type": "stream",
     "text": [
      "[(1447,)]\n"
     ]
    }
   ],
   "source": [
    "#Inspecting the DB I relized prcp has some observation as Null \n",
    "Nulls = Session.execute(\"SELECT count(*) FROM Measurement WHERE prcp is Null\").fetchall()\n",
    "print(Nulls)"
   ]
  },
  {
   "cell_type": "code",
   "execution_count": 44,
   "metadata": {},
   "outputs": [
    {
     "data": {
      "text/plain": [
       "<sqlalchemy.engine.result.ResultProxy at 0x20f845ce588>"
      ]
     },
     "execution_count": 44,
     "metadata": {},
     "output_type": "execute_result"
    }
   ],
   "source": [
    "#Set all prcp NULL  as 0.0 in order to graph\n",
    "Session.execute(\"Update Measurement SET prcp=0.0 WHERE prcp is NULL\")"
   ]
  },
  {
   "cell_type": "code",
   "execution_count": 45,
   "metadata": {},
   "outputs": [],
   "source": [
    "Session.commit()"
   ]
  },
  {
   "cell_type": "code",
   "execution_count": 46,
   "metadata": {},
   "outputs": [
    {
     "name": "stdout",
     "output_type": "stream",
     "text": [
      "[(0,)]\n"
     ]
    }
   ],
   "source": [
    "Nulls = Session.execute(\"SELECT count(*) FROM Measurement WHERE prcp is Null\").fetchall()\n",
    "print(Nulls)"
   ]
  },
  {
   "cell_type": "code",
   "execution_count": 27,
   "metadata": {},
   "outputs": [
    {
     "data": {
      "text/html": [
       "<div>\n",
       "<style scoped>\n",
       "    .dataframe tbody tr th:only-of-type {\n",
       "        vertical-align: middle;\n",
       "    }\n",
       "\n",
       "    .dataframe tbody tr th {\n",
       "        vertical-align: top;\n",
       "    }\n",
       "\n",
       "    .dataframe thead th {\n",
       "        text-align: right;\n",
       "    }\n",
       "</style>\n",
       "<table border=\"1\" class=\"dataframe\">\n",
       "  <thead>\n",
       "    <tr style=\"text-align: right;\">\n",
       "      <th></th>\n",
       "      <th>date</th>\n",
       "      <th>prcp</th>\n",
       "    </tr>\n",
       "  </thead>\n",
       "  <tbody>\n",
       "    <tr>\n",
       "      <th>0</th>\n",
       "      <td>2016-08-24</td>\n",
       "      <td>0.08</td>\n",
       "    </tr>\n",
       "    <tr>\n",
       "      <th>1</th>\n",
       "      <td>2016-08-24</td>\n",
       "      <td>2.15</td>\n",
       "    </tr>\n",
       "    <tr>\n",
       "      <th>2</th>\n",
       "      <td>2016-08-24</td>\n",
       "      <td>2.28</td>\n",
       "    </tr>\n",
       "    <tr>\n",
       "      <th>3</th>\n",
       "      <td>2016-08-24</td>\n",
       "      <td>0.00</td>\n",
       "    </tr>\n",
       "    <tr>\n",
       "      <th>4</th>\n",
       "      <td>2016-08-24</td>\n",
       "      <td>1.22</td>\n",
       "    </tr>\n",
       "  </tbody>\n",
       "</table>\n",
       "</div>"
      ],
      "text/plain": [
       "         date  prcp\n",
       "0  2016-08-24  0.08\n",
       "1  2016-08-24  2.15\n",
       "2  2016-08-24  2.28\n",
       "3  2016-08-24  0.00\n",
       "4  2016-08-24  1.22"
      ]
     },
     "execution_count": 27,
     "metadata": {},
     "output_type": "execute_result"
    }
   ],
   "source": [
    "# query to retrieve the date and prcp values, to dates defined above\n",
    "prct_data = Session.query(Measurement.date, Measurement.prcp).\\\n",
    "    filter(Measurement.date > one_year_ago).\\\n",
    "    order_by(Measurement.date).all()\n",
    "\n",
    "#save as dataframe and set index to date \n",
    "prcp_data_df = pd.DataFrame(prct_data)\n",
    "prcp_data_df.head()"
   ]
  },
  {
   "cell_type": "code",
   "execution_count": 19,
   "metadata": {},
   "outputs": [
    {
     "data": {
      "text/html": [
       "<div>\n",
       "<style scoped>\n",
       "    .dataframe tbody tr th:only-of-type {\n",
       "        vertical-align: middle;\n",
       "    }\n",
       "\n",
       "    .dataframe tbody tr th {\n",
       "        vertical-align: top;\n",
       "    }\n",
       "\n",
       "    .dataframe thead th {\n",
       "        text-align: right;\n",
       "    }\n",
       "</style>\n",
       "<table border=\"1\" class=\"dataframe\">\n",
       "  <thead>\n",
       "    <tr style=\"text-align: right;\">\n",
       "      <th></th>\n",
       "      <th>prcp</th>\n",
       "    </tr>\n",
       "    <tr>\n",
       "      <th>date</th>\n",
       "      <th></th>\n",
       "    </tr>\n",
       "  </thead>\n",
       "  <tbody>\n",
       "    <tr>\n",
       "      <th>2016-08-24</th>\n",
       "      <td>0.08</td>\n",
       "    </tr>\n",
       "    <tr>\n",
       "      <th>2016-08-24</th>\n",
       "      <td>2.15</td>\n",
       "    </tr>\n",
       "    <tr>\n",
       "      <th>2016-08-24</th>\n",
       "      <td>2.28</td>\n",
       "    </tr>\n",
       "    <tr>\n",
       "      <th>2016-08-24</th>\n",
       "      <td>0.00</td>\n",
       "    </tr>\n",
       "    <tr>\n",
       "      <th>2016-08-24</th>\n",
       "      <td>1.22</td>\n",
       "    </tr>\n",
       "    <tr>\n",
       "      <th>2016-08-24</th>\n",
       "      <td>2.15</td>\n",
       "    </tr>\n",
       "    <tr>\n",
       "      <th>2016-08-24</th>\n",
       "      <td>1.45</td>\n",
       "    </tr>\n",
       "    <tr>\n",
       "      <th>2016-08-25</th>\n",
       "      <td>0.08</td>\n",
       "    </tr>\n",
       "    <tr>\n",
       "      <th>2016-08-25</th>\n",
       "      <td>0.08</td>\n",
       "    </tr>\n",
       "    <tr>\n",
       "      <th>2016-08-25</th>\n",
       "      <td>0.00</td>\n",
       "    </tr>\n",
       "    <tr>\n",
       "      <th>2016-08-25</th>\n",
       "      <td>0.00</td>\n",
       "    </tr>\n",
       "    <tr>\n",
       "      <th>2016-08-25</th>\n",
       "      <td>0.21</td>\n",
       "    </tr>\n",
       "    <tr>\n",
       "      <th>2016-08-25</th>\n",
       "      <td>0.06</td>\n",
       "    </tr>\n",
       "    <tr>\n",
       "      <th>2016-08-25</th>\n",
       "      <td>0.11</td>\n",
       "    </tr>\n",
       "    <tr>\n",
       "      <th>2016-08-26</th>\n",
       "      <td>0.00</td>\n",
       "    </tr>\n",
       "    <tr>\n",
       "      <th>2016-08-26</th>\n",
       "      <td>0.03</td>\n",
       "    </tr>\n",
       "    <tr>\n",
       "      <th>2016-08-26</th>\n",
       "      <td>0.02</td>\n",
       "    </tr>\n",
       "    <tr>\n",
       "      <th>2016-08-26</th>\n",
       "      <td>0.04</td>\n",
       "    </tr>\n",
       "    <tr>\n",
       "      <th>2016-08-26</th>\n",
       "      <td>0.00</td>\n",
       "    </tr>\n",
       "    <tr>\n",
       "      <th>2016-08-26</th>\n",
       "      <td>0.01</td>\n",
       "    </tr>\n",
       "  </tbody>\n",
       "</table>\n",
       "</div>"
      ],
      "text/plain": [
       "            prcp\n",
       "date            \n",
       "2016-08-24  0.08\n",
       "2016-08-24  2.15\n",
       "2016-08-24  2.28\n",
       "2016-08-24  0.00\n",
       "2016-08-24  1.22\n",
       "2016-08-24  2.15\n",
       "2016-08-24  1.45\n",
       "2016-08-25  0.08\n",
       "2016-08-25  0.08\n",
       "2016-08-25  0.00\n",
       "2016-08-25  0.00\n",
       "2016-08-25  0.21\n",
       "2016-08-25  0.06\n",
       "2016-08-25  0.11\n",
       "2016-08-26  0.00\n",
       "2016-08-26  0.03\n",
       "2016-08-26  0.02\n",
       "2016-08-26  0.04\n",
       "2016-08-26  0.00\n",
       "2016-08-26  0.01"
      ]
     },
     "execution_count": 19,
     "metadata": {},
     "output_type": "execute_result"
    }
   ],
   "source": [
    "prcp_data_df = prcp_data_df.set_index(\"date\")\n",
    "prcp_data_df.head(20)"
   ]
  },
  {
   "cell_type": "code",
   "execution_count": 32,
   "metadata": {},
   "outputs": [],
   "source": [
    "rain= prcp_data_df['prcp']\n",
    "date = prcp_data_df['date']"
   ]
  },
  {
   "cell_type": "code",
   "execution_count": 55,
   "metadata": {},
   "outputs": [
    {
     "data": {
      "image/png": "[encoded data removed]",
      "text/plain": [
       "<Figure size 1080x720 with 1 Axes>"
      ]
     },
     "metadata": {
      "needs_background": "light"
     },
     "output_type": "display_data"
    }
   ],
   "source": [
    "#Plot precipitation by date\n",
    "import matplotlib.pyplot as plt\n",
    "ax = prcp_data_df[['prcp','date']].plot(kind='bar', title =\"Precipitation by date\", figsize=(15, 10), legend=True, fontsize=12)\n",
    "ax.set_xlabel(\"Date\", fontsize=12)\n",
    "ax.set_ylabel(\"Precipitation\", fontsize=12)\n",
    "plt.xticks(rotation=90, fontsize=5)\n",
    "plt.show()"
   ]
  },
  {
   "cell_type": "code",
   "execution_count": 39,
   "metadata": {},
   "outputs": [],
   "source": [
    "from sqlalchemy import func"
   ]
  },
  {
   "cell_type": "code",
   "execution_count": 40,
   "metadata": {},
   "outputs": [
    {
     "name": "stdout",
     "output_type": "stream",
     "text": [
      "Total number of stations: 9\n"
     ]
    }
   ],
   "source": [
    "stations = Session.query(func.count(Station.station)).first()\n",
    "print(f\"Total number of stations: {str(stations[0])}\")"
   ]
  },
  {
   "cell_type": "code",
   "execution_count": 41,
   "metadata": {},
   "outputs": [
    {
     "data": {
      "text/plain": [
       "[(2772, 'USC00519281'),\n",
       " (2724, 'USC00519397'),\n",
       " (2709, 'USC00513117'),\n",
       " (2669, 'USC00519523'),\n",
       " (2612, 'USC00516128'),\n",
       " (2202, 'USC00514830'),\n",
       " (1979, 'USC00511918'),\n",
       " (1372, 'USC00517948'),\n",
       " (511, 'USC00518838')]"
      ]
     },
     "execution_count": 41,
     "metadata": {},
     "output_type": "execute_result"
    }
   ],
   "source": [
    "# Run query to verify the measurement counts by station\n",
    "engine.execute(\"SELECT count(station), station FROM measurement GROUP BY station ORDER BY count(station) DESC\").fetchall()"
   ]
  },
  {
   "cell_type": "code",
   "execution_count": 42,
   "metadata": {},
   "outputs": [
    {
     "data": {
      "text/html": [
       "<div>\n",
       "<style scoped>\n",
       "    .dataframe tbody tr th:only-of-type {\n",
       "        vertical-align: middle;\n",
       "    }\n",
       "\n",
       "    .dataframe tbody tr th {\n",
       "        vertical-align: top;\n",
       "    }\n",
       "\n",
       "    .dataframe thead th {\n",
       "        text-align: right;\n",
       "    }\n",
       "</style>\n",
       "<table border=\"1\" class=\"dataframe\">\n",
       "  <thead>\n",
       "    <tr style=\"text-align: right;\">\n",
       "      <th></th>\n",
       "      <th>Station</th>\n",
       "      <th>Count</th>\n",
       "    </tr>\n",
       "  </thead>\n",
       "  <tbody>\n",
       "    <tr>\n",
       "      <th>0</th>\n",
       "      <td>USC00519281</td>\n",
       "      <td>2772</td>\n",
       "    </tr>\n",
       "    <tr>\n",
       "      <th>1</th>\n",
       "      <td>USC00519397</td>\n",
       "      <td>2724</td>\n",
       "    </tr>\n",
       "    <tr>\n",
       "      <th>2</th>\n",
       "      <td>USC00513117</td>\n",
       "      <td>2709</td>\n",
       "    </tr>\n",
       "    <tr>\n",
       "      <th>3</th>\n",
       "      <td>USC00519523</td>\n",
       "      <td>2669</td>\n",
       "    </tr>\n",
       "    <tr>\n",
       "      <th>4</th>\n",
       "      <td>USC00516128</td>\n",
       "      <td>2612</td>\n",
       "    </tr>\n",
       "  </tbody>\n",
       "</table>\n",
       "</div>"
      ],
      "text/plain": [
       "       Station  Count\n",
       "0  USC00519281   2772\n",
       "1  USC00519397   2724\n",
       "2  USC00513117   2709\n",
       "3  USC00519523   2669\n",
       "4  USC00516128   2612"
      ]
     },
     "execution_count": 42,
     "metadata": {},
     "output_type": "execute_result"
    }
   ],
   "source": [
    "# Query to retrieve the most active stations\n",
    "active_stations_descending = Session.query(Measurement.station, func.count(Measurement.station)).\\\n",
    "        group_by(Measurement.station).order_by(func.count(Measurement.station).desc()).all()\n",
    "\n",
    "# save the results to a dataframe\n",
    "df_active_stations_descending = pd.DataFrame(data=active_stations_descending, columns=['Station', 'Count'])\n",
    "df_active_stations_descending.head()"
   ]
  },
  {
   "cell_type": "code",
   "execution_count": 43,
   "metadata": {},
   "outputs": [
    {
     "name": "stdout",
     "output_type": "stream",
     "text": [
      "Station with most observations (2772): USC00519281\n"
     ]
    }
   ],
   "source": [
    "# Set station with highest number of observations to a variable\n",
    "station_with_most_observations = df_active_stations_descending[\"Station\"][0]\n",
    "most_observations = df_active_stations_descending[\"Count\"][0]\n",
    "print(f\"Station with most observations ({most_observations}): {station_with_most_observations}\")"
   ]
  },
  {
   "cell_type": "code",
   "execution_count": 44,
   "metadata": {},
   "outputs": [],
   "source": [
    "Temp=Session.query(Measurement.date, Measurement.tobs).group_by(Measurement.date).\\\n",
    "    filter(Measurement.date <= '2017-12-31').filter(Measurement.date >= '2017-01-01').all()\n"
   ]
  },
  {
   "cell_type": "code",
   "execution_count": 45,
   "metadata": {},
   "outputs": [
    {
     "name": "stdout",
     "output_type": "stream",
     "text": [
      "[('2017-01-01', 62.0), ('2017-01-02', 66.0), ('2017-01-03', 63.0), ('2017-01-04', 62.0), ('2017-01-05', 63.0), ('2017-01-06', 64.0), ('2017-01-07', 66.0), ('2017-01-08', 60.0), ('2017-01-09', 64.0), ('2017-01-10', 63.0), ('2017-01-11', 78.0), ('2017-01-12', 67.0), ('2017-01-13', 67.0), ('2017-01-14', 65.0), ('2017-01-15', 66.0), ('2017-01-16', 67.0), ('2017-01-17', 66.0), ('2017-01-18', 72.0), ('2017-01-19', 73.0), ('2017-01-20', 71.0), ('2017-01-21', 72.0), ('2017-01-22', 72.0), ('2017-01-23', 72.0), ('2017-01-24', 69.0), ('2017-01-25', 72.0), ('2017-01-26', 71.0), ('2017-01-27', 65.0), ('2017-01-28', 64.0), ('2017-01-29', 67.0), ('2017-01-30', 67.0), ('2017-01-31', 68.0), ('2017-02-01', 70.0), ('2017-02-02', 61.0), ('2017-02-03', 65.0), ('2017-02-04', 72.0), ('2017-02-05', 73.0), ('2017-02-06', 76.0), ('2017-02-07', 64.0), ('2017-02-08', 62.0), ('2017-02-09', 61.0), ('2017-02-10', 71.0), ('2017-02-11', 69.0), ('2017-02-12', 68.0), ('2017-02-13', 74.0), ('2017-02-14', 75.0), ('2017-02-15', 75.0), ('2017-02-16', 71.0), ('2017-02-17', 71.0), ('2017-02-18', 68.0), ('2017-02-19', 69.0), ('2017-02-20', 71.0), ('2017-02-21', 70.0), ('2017-02-22', 72.0), ('2017-02-23', 74.0), ('2017-02-24', 70.0), ('2017-02-25', 64.0), ('2017-02-26', 65.0), ('2017-02-27', 72.0), ('2017-02-28', 74.0), ('2017-03-01', 66.0), ('2017-03-02', 73.0), ('2017-03-03', 69.0), ('2017-03-04', 74.0), ('2017-03-05', 71.0), ('2017-03-06', 69.0), ('2017-03-07', 68.0), ('2017-03-08', 71.0), ('2017-03-09', 72.0), ('2017-03-10', 68.0), ('2017-03-11', 71.0), ('2017-03-12', 74.0), ('2017-03-13', 71.0), ('2017-03-14', 71.0), ('2017-03-15', 71.0), ('2017-03-16', 70.0), ('2017-03-17', 72.0), ('2017-03-18', 69.0), ('2017-03-19', 73.0), ('2017-03-20', 75.0), ('2017-03-21', 75.0), ('2017-03-22', 74.0), ('2017-03-23', 70.0), ('2017-03-24', 73.0), ('2017-03-25', 76.0), ('2017-03-26', 76.0), ('2017-03-27', 75.0), ('2017-03-28', 77.0), ('2017-03-29', 76.0), ('2017-03-30', 77.0), ('2017-03-31', 76.0), ('2017-04-01', 76.0), ('2017-04-02', 76.0), ('2017-04-03', 77.0), ('2017-04-04', 76.0), ('2017-04-05', 78.0), ('2017-04-06', 77.0), ('2017-04-07', 77.0), ('2017-04-08', 77.0), ('2017-04-09', 72.0), ('2017-04-10', 75.0), ('2017-04-11', 79.0), ('2017-04-12', 78.0), ('2017-04-13', 77.0), ('2017-04-14', 75.0), ('2017-04-15', 73.0), ('2017-04-16', 74.0), ('2017-04-17', 74.0), ('2017-04-18', 75.0), ('2017-04-19', 74.0), ('2017-04-20', 78.0), ('2017-04-21', 73.0), ('2017-04-22', 76.0), ('2017-04-23', 77.0), ('2017-04-24', 77.0), ('2017-04-25', 77.0), ('2017-04-26', 77.0), ('2017-04-27', 78.0), ('2017-04-28', 76.0), ('2017-04-29', 72.0), ('2017-04-30', 63.0), ('2017-05-01', 75.0), ('2017-05-02', 78.0), ('2017-05-03', 78.0), ('2017-05-04', 78.0), ('2017-05-05', 79.0), ('2017-05-06', 79.0), ('2017-05-07', 79.0), ('2017-05-08', 77.0), ('2017-05-09', 74.0), ('2017-05-10', 78.0), ('2017-05-11', 78.0), ('2017-05-12', 79.0), ('2017-05-13', 79.0), ('2017-05-14', 77.0), ('2017-05-15', 78.0), ('2017-05-16', 78.0), ('2017-05-17', 78.0), ('2017-05-18', 73.0), ('2017-05-19', 76.0), ('2017-05-20', 78.0), ('2017-05-21', 76.0), ('2017-05-22', 77.0), ('2017-05-23', 87.0), ('2017-05-24', 77.0), ('2017-05-25', 77.0), ('2017-05-26', 73.0), ('2017-05-27', 74.0), ('2017-05-28', 76.0), ('2017-05-29', 75.0), ('2017-05-30', 76.0), ('2017-05-31', 79.0), ('2017-06-01', 79.0), ('2017-06-02', 79.0), ('2017-06-03', 79.0), ('2017-06-04', 79.0), ('2017-06-05', 80.0), ('2017-06-06', 79.0), ('2017-06-07', 79.0), ('2017-06-08', 80.0), ('2017-06-09', 80.0), ('2017-06-10', 77.0), ('2017-06-11', 79.0), ('2017-06-12', 83.0), ('2017-06-13', 80.0), ('2017-06-14', 80.0), ('2017-06-15', 78.0), ('2017-06-16', 79.0), ('2017-06-17', 80.0), ('2017-06-18', 77.0), ('2017-06-19', 80.0), ('2017-06-20', 78.0), ('2017-06-21', 79.0), ('2017-06-22', 80.0), ('2017-06-23', 78.0), ('2017-06-24', 80.0), ('2017-06-25', 80.0), ('2017-06-26', 81.0), ('2017-06-27', 80.0), ('2017-06-28', 79.0), ('2017-06-29', 79.0), ('2017-06-30', 75.0), ('2017-07-01', 80.0), ('2017-07-02', 80.0), ('2017-07-03', 78.0), ('2017-07-04', 80.0), ('2017-07-05', 80.0), ('2017-07-06', 81.0), ('2017-07-07', 79.0), ('2017-07-08', 80.0), ('2017-07-09', 80.0), ('2017-07-10', 80.0), ('2017-07-11', 78.0), ('2017-07-12', 81.0), ('2017-07-13', 79.0), ('2017-07-14', 81.0), ('2017-07-15', 80.0), ('2017-07-16', 78.0), ('2017-07-17', 80.0), ('2017-07-18', 80.0), ('2017-07-19', 78.0), ('2017-07-20', 80.0), ('2017-07-21', 80.0), ('2017-07-22', 81.0), ('2017-07-23', 81.0), ('2017-07-24', 78.0), ('2017-07-25', 80.0), ('2017-07-26', 82.0), ('2017-07-27', 79.0), ('2017-07-28', 81.0), ('2017-07-29', 81.0), ('2017-07-30', 81.0), ('2017-07-31', 80.0), ('2017-08-01', 77.0), ('2017-08-02', 73.0), ('2017-08-03', 79.0), ('2017-08-04', 80.0), ('2017-08-05', 81.0), ('2017-08-06', 80.0), ('2017-08-07', 80.0), ('2017-08-08', 80.0), ('2017-08-09', 80.0), ('2017-08-10', 81.0), ('2017-08-11', 78.0), ('2017-08-12', 80.0), ('2017-08-13', 81.0), ('2017-08-14', 79.0), ('2017-08-15', 78.0), ('2017-08-16', 82.0), ('2017-08-17', 78.0), ('2017-08-18', 80.0), ('2017-08-19', 79.0), ('2017-08-20', 81.0), ('2017-08-21', 81.0), ('2017-08-22', 82.0), ('2017-08-23', 81.0)]\n"
     ]
    }
   ],
   "source": [
    "print (Temp)"
   ]
  },
  {
   "cell_type": "code",
   "execution_count": 46,
   "metadata": {},
   "outputs": [],
   "source": [
    "Temp_stat = Session.query(Measurement.station, Measurement.date, Measurement.tobs).group_by(Measurement.date).\\\n",
    "    filter(Measurement.date <= '2017-12-31').filter(Measurement.date >= '2017-01-01').\\\n",
    "    filter(Measurement.station==\"USC00519281\").all()"
   ]
  },
  {
   "cell_type": "code",
   "execution_count": 47,
   "metadata": {},
   "outputs": [
    {
     "name": "stdout",
     "output_type": "stream",
     "text": [
      "[('USC00519281', '2017-01-01', 72.0), ('USC00519281', '2017-01-02', 70.0), ('USC00519281', '2017-01-03', 64.0), ('USC00519281', '2017-01-04', 63.0), ('USC00519281', '2017-01-05', 63.0), ('USC00519281', '2017-01-06', 62.0), ('USC00519281', '2017-01-07', 70.0), ('USC00519281', '2017-01-08', 70.0), ('USC00519281', '2017-01-09', 62.0), ('USC00519281', '2017-01-10', 62.0), ('USC00519281', '2017-01-11', 63.0), ('USC00519281', '2017-01-12', 65.0), ('USC00519281', '2017-01-13', 69.0), ('USC00519281', '2017-01-14', 77.0), ('USC00519281', '2017-01-15', 70.0), ('USC00519281', '2017-01-16', 74.0), ('USC00519281', '2017-01-17', 69.0), ('USC00519281', '2017-01-18', 72.0), ('USC00519281', '2017-01-19', 71.0), ('USC00519281', '2017-01-20', 69.0), ('USC00519281', '2017-01-21', 71.0), ('USC00519281', '2017-01-22', 71.0), ('USC00519281', '2017-01-23', 72.0), ('USC00519281', '2017-01-24', 72.0), ('USC00519281', '2017-01-25', 69.0), ('USC00519281', '2017-01-26', 70.0), ('USC00519281', '2017-01-27', 66.0), ('USC00519281', '2017-01-28', 65.0), ('USC00519281', '2017-01-29', 69.0), ('USC00519281', '2017-01-30', 68.0), ('USC00519281', '2017-01-31', 68.0), ('USC00519281', '2017-02-01', 68.0), ('USC00519281', '2017-02-02', 59.0), ('USC00519281', '2017-02-03', 60.0), ('USC00519281', '2017-02-04', 70.0), ('USC00519281', '2017-02-05', 73.0), ('USC00519281', '2017-02-06', 75.0), ('USC00519281', '2017-02-07', 64.0), ('USC00519281', '2017-02-08', 59.0), ('USC00519281', '2017-02-09', 59.0), ('USC00519281', '2017-02-10', 62.0), ('USC00519281', '2017-02-11', 68.0), ('USC00519281', '2017-02-12', 70.0), ('USC00519281', '2017-02-13', 73.0), ('USC00519281', '2017-02-14', 79.0), ('USC00519281', '2017-02-15', 75.0), ('USC00519281', '2017-02-16', 65.0), ('USC00519281', '2017-02-17', 70.0), ('USC00519281', '2017-02-18', 74.0), ('USC00519281', '2017-02-19', 70.0), ('USC00519281', '2017-02-20', 70.0), ('USC00519281', '2017-02-21', 71.0), ('USC00519281', '2017-02-22', 71.0), ('USC00519281', '2017-02-23', 71.0), ('USC00519281', '2017-02-24', 69.0), ('USC00519281', '2017-02-25', 61.0), ('USC00519281', '2017-02-26', 67.0), ('USC00519281', '2017-02-27', 65.0), ('USC00519281', '2017-02-28', 72.0), ('USC00519281', '2017-03-01', 71.0), ('USC00519281', '2017-03-02', 73.0), ('USC00519281', '2017-03-03', 72.0), ('USC00519281', '2017-03-04', 77.0), ('USC00519281', '2017-03-05', 73.0), ('USC00519281', '2017-03-06', 67.0), ('USC00519281', '2017-03-07', 62.0), ('USC00519281', '2017-03-08', 64.0), ('USC00519281', '2017-03-09', 67.0), ('USC00519281', '2017-03-10', 66.0), ('USC00519281', '2017-03-11', 81.0), ('USC00519281', '2017-03-12', 69.0), ('USC00519281', '2017-03-13', 66.0), ('USC00519281', '2017-03-14', 67.0), ('USC00519281', '2017-03-15', 69.0), ('USC00519281', '2017-03-16', 66.0), ('USC00519281', '2017-03-17', 68.0), ('USC00519281', '2017-03-18', 65.0), ('USC00519281', '2017-03-19', 74.0), ('USC00519281', '2017-03-20', 69.0), ('USC00519281', '2017-03-21', 72.0), ('USC00519281', '2017-03-22', 73.0), ('USC00519281', '2017-03-23', 72.0), ('USC00519281', '2017-03-24', 71.0), ('USC00519281', '2017-03-25', 76.0), ('USC00519281', '2017-03-26', 77.0), ('USC00519281', '2017-03-27', 76.0), ('USC00519281', '2017-03-28', 74.0), ('USC00519281', '2017-03-29', 68.0), ('USC00519281', '2017-03-30', 73.0), ('USC00519281', '2017-03-31', 71.0), ('USC00519281', '2017-04-01', 74.0), ('USC00519281', '2017-04-02', 75.0), ('USC00519281', '2017-04-03', 70.0), ('USC00519281', '2017-04-04', 67.0), ('USC00519281', '2017-04-05', 71.0), ('USC00519281', '2017-04-06', 67.0), ('USC00519281', '2017-04-07', 74.0), ('USC00519281', '2017-04-08', 77.0), ('USC00519281', '2017-04-09', 78.0), ('USC00519281', '2017-04-10', 67.0), ('USC00519281', '2017-04-11', 70.0), ('USC00519281', '2017-04-12', 69.0), ('USC00519281', '2017-04-13', 69.0), ('USC00519281', '2017-04-14', 74.0), ('USC00519281', '2017-04-15', 78.0), ('USC00519281', '2017-04-16', 71.0), ('USC00519281', '2017-04-17', 67.0), ('USC00519281', '2017-04-18', 68.0), ('USC00519281', '2017-04-19', 67.0), ('USC00519281', '2017-04-20', 76.0), ('USC00519281', '2017-04-21', 69.0), ('USC00519281', '2017-04-22', 72.0), ('USC00519281', '2017-04-23', 76.0), ('USC00519281', '2017-04-24', 68.0), ('USC00519281', '2017-04-25', 72.0), ('USC00519281', '2017-04-26', 74.0), ('USC00519281', '2017-04-27', 70.0), ('USC00519281', '2017-04-28', 67.0), ('USC00519281', '2017-04-29', 72.0), ('USC00519281', '2017-04-30', 60.0), ('USC00519281', '2017-05-01', 65.0), ('USC00519281', '2017-05-02', 75.0), ('USC00519281', '2017-05-03', 70.0), ('USC00519281', '2017-05-04', 75.0), ('USC00519281', '2017-05-05', 70.0), ('USC00519281', '2017-05-06', 79.0), ('USC00519281', '2017-05-07', 75.0), ('USC00519281', '2017-05-08', 70.0), ('USC00519281', '2017-05-09', 67.0), ('USC00519281', '2017-05-10', 74.0), ('USC00519281', '2017-05-11', 70.0), ('USC00519281', '2017-05-12', 75.0), ('USC00519281', '2017-05-13', 76.0), ('USC00519281', '2017-05-14', 77.0), ('USC00519281', '2017-05-15', 74.0), ('USC00519281', '2017-05-16', 74.0), ('USC00519281', '2017-05-17', 74.0), ('USC00519281', '2017-05-18', 69.0), ('USC00519281', '2017-05-19', 68.0), ('USC00519281', '2017-05-20', 76.0), ('USC00519281', '2017-05-21', 74.0), ('USC00519281', '2017-05-22', 71.0), ('USC00519281', '2017-05-23', 71.0), ('USC00519281', '2017-05-24', 74.0), ('USC00519281', '2017-05-25', 74.0), ('USC00519281', '2017-05-26', 74.0), ('USC00519281', '2017-05-27', 74.0), ('USC00519281', '2017-05-28', 80.0), ('USC00519281', '2017-05-29', 74.0), ('USC00519281', '2017-05-30', 72.0), ('USC00519281', '2017-05-31', 75.0), ('USC00519281', '2017-06-01', 80.0), ('USC00519281', '2017-06-02', 76.0), ('USC00519281', '2017-06-03', 76.0), ('USC00519281', '2017-06-04', 77.0), ('USC00519281', '2017-06-05', 75.0), ('USC00519281', '2017-06-06', 75.0), ('USC00519281', '2017-06-07', 75.0), ('USC00519281', '2017-06-08', 75.0), ('USC00519281', '2017-06-09', 72.0), ('USC00519281', '2017-06-10', 74.0), ('USC00519281', '2017-06-11', 74.0), ('USC00519281', '2017-06-12', 74.0), ('USC00519281', '2017-06-13', 76.0), ('USC00519281', '2017-06-14', 74.0), ('USC00519281', '2017-06-15', 75.0), ('USC00519281', '2017-06-16', 73.0), ('USC00519281', '2017-06-17', 79.0), ('USC00519281', '2017-06-18', 75.0), ('USC00519281', '2017-06-19', 72.0), ('USC00519281', '2017-06-20', 72.0), ('USC00519281', '2017-06-21', 74.0), ('USC00519281', '2017-06-22', 72.0), ('USC00519281', '2017-06-23', 72.0), ('USC00519281', '2017-06-24', 77.0), ('USC00519281', '2017-06-25', 71.0), ('USC00519281', '2017-06-26', 73.0), ('USC00519281', '2017-06-27', 76.0), ('USC00519281', '2017-06-28', 77.0), ('USC00519281', '2017-06-29', 76.0), ('USC00519281', '2017-06-30', 76.0), ('USC00519281', '2017-07-01', 79.0), ('USC00519281', '2017-07-02', 81.0), ('USC00519281', '2017-07-03', 76.0), ('USC00519281', '2017-07-04', 78.0), ('USC00519281', '2017-07-05', 77.0), ('USC00519281', '2017-07-06', 74.0), ('USC00519281', '2017-07-07', 75.0), ('USC00519281', '2017-07-08', 78.0), ('USC00519281', '2017-07-09', 78.0), ('USC00519281', '2017-07-10', 69.0), ('USC00519281', '2017-07-11', 72.0), ('USC00519281', '2017-07-12', 74.0), ('USC00519281', '2017-07-13', 74.0), ('USC00519281', '2017-07-14', 76.0), ('USC00519281', '2017-07-15', 80.0), ('USC00519281', '2017-07-16', 80.0), ('USC00519281', '2017-07-17', 76.0), ('USC00519281', '2017-07-18', 76.0), ('USC00519281', '2017-07-19', 76.0), ('USC00519281', '2017-07-20', 77.0), ('USC00519281', '2017-07-21', 77.0), ('USC00519281', '2017-07-22', 77.0), ('USC00519281', '2017-07-23', 82.0), ('USC00519281', '2017-07-24', 75.0), ('USC00519281', '2017-07-25', 77.0), ('USC00519281', '2017-07-26', 75.0), ('USC00519281', '2017-07-27', 76.0), ('USC00519281', '2017-07-28', 81.0), ('USC00519281', '2017-07-29', 82.0), ('USC00519281', '2017-07-30', 81.0), ('USC00519281', '2017-07-31', 76.0), ('USC00519281', '2017-08-04', 77.0), ('USC00519281', '2017-08-05', 82.0), ('USC00519281', '2017-08-06', 83.0), ('USC00519281', '2017-08-13', 77.0), ('USC00519281', '2017-08-14', 77.0), ('USC00519281', '2017-08-15', 77.0), ('USC00519281', '2017-08-16', 76.0), ('USC00519281', '2017-08-17', 76.0), ('USC00519281', '2017-08-18', 79.0)]\n"
     ]
    }
   ],
   "source": [
    "print (Temp_stat)"
   ]
  },
  {
   "cell_type": "code",
   "execution_count": 48,
   "metadata": {},
   "outputs": [
    {
     "data": {
      "text/html": [
       "<div>\n",
       "<style scoped>\n",
       "    .dataframe tbody tr th:only-of-type {\n",
       "        vertical-align: middle;\n",
       "    }\n",
       "\n",
       "    .dataframe tbody tr th {\n",
       "        vertical-align: top;\n",
       "    }\n",
       "\n",
       "    .dataframe thead th {\n",
       "        text-align: right;\n",
       "    }\n",
       "</style>\n",
       "<table border=\"1\" class=\"dataframe\">\n",
       "  <thead>\n",
       "    <tr style=\"text-align: right;\">\n",
       "      <th></th>\n",
       "      <th>tobs</th>\n",
       "    </tr>\n",
       "    <tr>\n",
       "      <th>date</th>\n",
       "      <th></th>\n",
       "    </tr>\n",
       "  </thead>\n",
       "  <tbody>\n",
       "    <tr>\n",
       "      <th>2017-01-01</th>\n",
       "      <td>72.0</td>\n",
       "    </tr>\n",
       "    <tr>\n",
       "      <th>2017-01-02</th>\n",
       "      <td>70.0</td>\n",
       "    </tr>\n",
       "    <tr>\n",
       "      <th>2017-01-03</th>\n",
       "      <td>64.0</td>\n",
       "    </tr>\n",
       "    <tr>\n",
       "      <th>2017-01-04</th>\n",
       "      <td>63.0</td>\n",
       "    </tr>\n",
       "    <tr>\n",
       "      <th>2017-01-05</th>\n",
       "      <td>63.0</td>\n",
       "    </tr>\n",
       "  </tbody>\n",
       "</table>\n",
       "</div>"
      ],
      "text/plain": [
       "            tobs\n",
       "date            \n",
       "2017-01-01  72.0\n",
       "2017-01-02  70.0\n",
       "2017-01-03  64.0\n",
       "2017-01-04  63.0\n",
       "2017-01-05  63.0"
      ]
     },
     "execution_count": 48,
     "metadata": {},
     "output_type": "execute_result"
    }
   ],
   "source": [
    "#Plot results\n",
    "Tmpplot = pd.DataFrame(data=Temp_stat, columns=[\"station\", \"date\", \"tobs\"])\n",
    "Tmpplot = Tmpplot.set_index('date', drop=True)\n",
    "Tmpplot = Tmpplot.drop(columns=\"station\", axis=1)\n",
    "Tmpplot.head()"
   ]
  },
  {
   "cell_type": "code",
   "execution_count": 52,
   "metadata": {},
   "outputs": [
    {
     "data": {
      "image/png": "[encoded data removed]",
      "text/plain": [
       "<Figure size 432x288 with 1 Axes>"
      ]
     },
     "metadata": {
      "needs_background": "light"
     },
     "output_type": "display_data"
    }
   ],
   "source": [
    "plt.hist(Tmpplot['tobs'],12)\n",
    "plt.xlabel(\"Recorded Temperature\")\n",
    "plt.ylabel(\"Number of Recorded Observations\")\n",
    "plt.title(\"Station Analysis\")\n",
    "plt.show()"
   ]
  },
  {
   "cell_type": "code",
   "execution_count": null,
   "metadata": {},
   "outputs": [],
   "source": []
  }
 ],
 "metadata": {
  "kernelspec": {
   "display_name": "Python 3",
   "language": "python",
   "name": "python3"
  },
  "language_info": {
   "codemirror_mode": {
    "name": "ipython",
    "version": 3
   },
   "file_extension": ".py",
   "mimetype": "text/x-python",
   "name": "python",
   "nbconvert_exporter": "python",
   "pygments_lexer": "ipython3",
   "version": "3.7.3"
  }
 },
 "nbformat": 4,
 "nbformat_minor": 2
}
